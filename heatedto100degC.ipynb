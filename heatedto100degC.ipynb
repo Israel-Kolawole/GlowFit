{
  "nbformat": 4,
  "nbformat_minor": 0,
  "metadata": {
    "colab": {
      "provenance": [],
      "collapsed_sections": [],
      "authorship_tag": "ABX9TyNuS6dF87KXa9dJ90v63GHG",
      "include_colab_link": true
    },
    "kernelspec": {
      "name": "python3",
      "display_name": "Python 3"
    },
    "language_info": {
      "name": "python"
    }
  },
  "cells": [
    {
      "cell_type": "markdown",
      "metadata": {
        "id": "view-in-github",
        "colab_type": "text"
      },
      "source": [
        "<a href=\"https://colab.research.google.com/github/vpagonis/Python-Codes/blob/main/heatedto100degC.ipynb\" target=\"_parent\"><img src=\"https://colab.research.google.com/assets/colab-badge.svg\" alt=\"Open In Colab\"/></a>"
      ]
    },
    {
      "cell_type": "code",
      "execution_count": null,
      "metadata": {
        "id": "uSbMdXyKstib"
      },
      "outputs": [],
      "source": [
        "#  deconvolution of microcline data after heating to T=100 degC\n",
        "#  with optimal number of peaks N=8\n",
        "from scipy import optimize\n",
        "import numpy as np\n",
        "import matplotlib.pyplot as plt\n",
        "from prettytable import PrettyTable \n",
        "import warnings\n",
        "warnings.filterwarnings(\"ignore\")\n",
        "import requests\n",
        "\n",
        "# read data file from GitHub\n",
        "url='https://github.com/vpagonis/Python-Codes/raw/main/data/KCTstop=100.txt'\n",
        "response=requests.get(url)\n",
        "a=response.text\n",
        "b=np.array(list(map(float,a.strip(\"[]\").split())))\n",
        "data=b.reshape(-1,2)\n",
        "\n",
        "x_data,y_data = data[:, 0]+273.15, data[:, 1]\n",
        "z,   kB =1.8, 8.617E-5  \n",
        "def TL(T, B,Tmax,En,rho):\n",
        "    fm=4.90537*rho**1.21038  \n",
        "    Fm=np.log(1+(1/fm)*(1-2*kB*T/En))\n",
        "    F=np.log(1+(1/fm)*((T/Tmax)**2.0)*np.exp(-En*(Tmax-T)/\\\n",
        "    (kB*T*Tmax))*(1-2*kB*T/En))\n",
        "    return np.abs(B)*np.exp(-En*(Tmax-T)/(kB*T*Tmax))*\\\n",
        "    ((F/Fm)**2.0)*\\\n",
        "    np.exp(-rho*(F**3.0)-F)/np.exp(-rho*(Fm**3.0)-Fm)   \n",
        "def total_TL(T, *inis): \n",
        "    u=np.array([0 for i in range(len(x_data))])\n",
        "    Bs, Tmaxs=    inis[0:nPks],inis[nPks:2*nPks]\n",
        "    for i in range(nPks):\n",
        "        u=u+TL(T,Bs[i],Tmaxs[i],Ens[i],rho)\n",
        "    return u\n",
        "nPks=8\n",
        "rho=.012952\n",
        "Ens=[7.03425754e-01, 8.32183629e-01, 9.01598651e-01, 1.00700000e+00,\n",
        "   1.13148391e+00, 1.25446161e+00, 1.41721608e+00, 1.57500000e+00]\n",
        "Tmaxs=[283.0,331.0,359.0,399.0,447.0,493.0,555,615]\n",
        "Tmaxlow=Tmaxs\n",
        "Tmaxhigh=[x+10 for x in Tmaxs]\n",
        "imaxs=[1e6]*8\n",
        "imaxlow=[0 for x in imaxs]\n",
        "imaxhigh=[10*x for x in imaxs]\n",
        "inis=imaxs+Tmaxs\n",
        "params, params_covariance = optimize.curve_fit(total_TL,x_data,y_data,\\\n",
        "p0=inis,bounds=(imaxlow+Tmaxlow,imaxhigh+Tmaxhigh))\n",
        "plt.plot(data[:, 0], y_data, 'o',\\\n",
        "label=r'Delay 12h');\n",
        "plt.plot(data[:, 0], total_TL(x_data, *params),c='r',\\\n",
        "label='KP-TL transformed Eq.(3)');\n",
        "for i in range(0,nPks):\n",
        "     plt.plot(data[:, 0],TL(x_data, params[i],\\\n",
        "     params[i+nPks],Ens[i],rho));\n",
        "plt.text(60,1000,'3');\n",
        "plt.text(150,9000,'4');\n",
        "plt.text(200,5000,'5');\n",
        "plt.text(240,3000,'6');\n",
        "plt.text(300,1400,'7');\n",
        "plt.text(370,800,'8');\n",
        "leg = plt.legend()\n",
        "leg.get_frame().set_linewidth(0.0)\n",
        "plt.ylim(0,12000); \n",
        "plt.ylabel('TL [cts/2$^{o}$C]');\n",
        "plt.xlabel(r'Temperature T [$^{o}$C]');\n",
        "plt.tight_layout()\n",
        "res=total_TL(x_data, *params)-y_data\n",
        "FOM=round(100*np.sum(abs(res))/np.sum(y_data),2)\n",
        "myTable = PrettyTable([\"B1\", \"B2\", \"B3\", \"B4\",\"B5\",\"rho'\"]) \n",
        "B1,B2,B3,B4,B5, rho=format(params[0],\"10.2E\"),format(params[1],\\\n",
        "\"10.2E\"),format(params[2],\"10.2E\"),format(params[3],\"10.2E\"),\\\n",
        " format(params[4],\"10.2E\"),round(params[5],5)\n",
        "plt.show()"
      ]
    }
  ]
}