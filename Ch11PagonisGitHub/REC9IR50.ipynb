{
  "nbformat": 4,
  "nbformat_minor": 0,
  "metadata": {
    "colab": {
      "provenance": [],
      "authorship_tag": "ABX9TyPGmjz+lEND9hOTb3ggaaQj",
      "include_colab_link": true
    },
    "kernelspec": {
      "name": "python3",
      "display_name": "Python 3"
    },
    "language_info": {
      "name": "python"
    }
  },
  "cells": [
    {
      "cell_type": "markdown",
      "metadata": {
        "id": "view-in-github",
        "colab_type": "text"
      },
      "source": [
        "<a href=\"https://colab.research.google.com/github/vpagonis/Python-Codes/blob/main/Ch11PagonisGitHub/REC9IR50.ipynb\" target=\"_parent\"><img src=\"https://colab.research.google.com/assets/colab-badge.svg\" alt=\"Open In Colab\"/></a>"
      ]
    },
    {
      "cell_type": "code",
      "execution_count": 1,
      "metadata": {
        "colab": {
          "base_uri": "https://localhost:8080/",
          "height": 409
        },
        "id": "cmv8G0hIzxQx",
        "outputId": "d757d129-89d6-46d6-dfed-b923d697e887"
      },
      "outputs": [
        {
          "output_type": "stream",
          "name": "stdout",
          "text": [
            "FOM= 8.28  %\n",
            "+---+------+---------+--------+----------+-----+-------+\n",
            "| A |  dA  |   rho   | d(rho) | s'(s^-1) | ds' |  bgd  |\n",
            "+---+------+---------+--------+----------+-----+-------+\n",
            "| 1 | 0.02 | 0.00642 | 8e-05  |  12.08   | 0.1 | 0.008 |\n",
            "+---+------+---------+--------+----------+-----+-------+\n"
          ]
        },
        {
          "output_type": "display_data",
          "data": {
            "text/plain": [
              "<Figure size 432x288 with 2 Axes>"
            ],
            "image/png": "[encoded data removed]"
          },
          "metadata": {
            "needs_background": "light"
          }
        }
      ],
      "source": [
        "# J1000 CW-IRSL data fitted with KP-CW equation\n",
        "from scipy import optimize\n",
        "from sympy import *\n",
        "import numpy as np\n",
        "import matplotlib.pyplot as plt\n",
        "from prettytable import PrettyTable \n",
        "import warnings\n",
        "warnings.filterwarnings(\"ignore\")\n",
        "import requests\n",
        "\n",
        "url='https://github.com/vpagonis/Python-Codes/raw/main/Ch11PagonisGitHub/rec%239IR50.TXT'\n",
        "\n",
        "response=requests.get(url)\n",
        "a=response.text\n",
        "b=np.array(list(map(float,a.strip(\"[]\").split())))\n",
        "data=b.reshape(-1,2)\n",
        "\n",
        "x_data,y_data = data[:, 0], data[:, 1] \n",
        "\n",
        "x_data,y_data=data[:,0][2:len(x_data)], data[:,1][2:len(x_data)]\n",
        "y_data=y_data/max(y_data)\n",
        "plt.subplot(2,1, 1)\n",
        "def test_func(x, imax_fit,rho_fit, A_fit,bgd_fit):\n",
        "    return imax_fit*np.exp (-rho_fit*(np.log(1 + A_fit*x))\\\n",
        "\t** 3.0)*(np.log(1+A_fit*x)**2.0)/(1+x*A_fit)+bgd_fit\n",
        "params, cov = optimize.curve_fit(test_func,\\\n",
        "x_data, y_data)\n",
        "drho= round(np.sqrt(cov[1][1]),5)\n",
        "dA = round(np.sqrt(cov[2][2]),2)\n",
        "dimax = round(np.sqrt(cov[0][2]),2)\n",
        "plt.scatter(x_data, y_data, label='J1000 feldspar')\n",
        "plt.plot(x_data, test_func(x_data, *params[0:4]),\n",
        "label='KP-CW equation')\n",
        "leg = plt.legend()\n",
        "leg.get_frame().set_linewidth(0.0)\n",
        "plt.ylabel('CW-IRSL signal [a.u.]')\n",
        "plt.xlabel('Time [s]')\n",
        "plt.subplot(2,1, 2)\n",
        "plt.plot(x_data,test_func(x_data, *params[0:4])-\\\n",
        "y_data,\"o\",label='Residuals')\n",
        "leg = plt.legend()\n",
        "leg.get_frame().set_linewidth(0.0)\n",
        "plt.ylabel('Residuals')\n",
        "plt.xlabel('Time [s]')\n",
        "plt.ylim(-.1,.1)\n",
        "plt.tight_layout()\n",
        "imax,rho, A, bgd=int(params[0]),round(params[1],5),\\\n",
        "round(params[2],2),round(params[-1],3)\n",
        "res=test_func(x_data, *params)-y_data\n",
        "FOM=round(100*np.sum(abs(res))/np.sum(y_data),2)\n",
        "myTable=PrettyTable([\"A\",'dA', \"rho\",  \"d(rho)\",\\\n",
        "\"s'(s^-1)\",\"ds'\",'bgd'])  \n",
        "myTable.add_row([imax,dimax,rho,drho, A, dA,bgd])\n",
        "print('FOM=',FOM,' %')\n",
        "print(myTable)\n",
        "plt.show()"
      ]
    }
  ]
}